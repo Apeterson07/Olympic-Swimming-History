{
 "cells": [
  {
   "cell_type": "code",
   "execution_count": 129,
   "metadata": {},
   "outputs": [],
   "source": [
    "# Import the dependencies\n",
    "import pandas as pd\n",
    "import numpy as np\n",
    "import datetime\n",
    "\n",
    "# Plotting\n",
    "import matplotlib.pyplot as plt\n",
    "import seaborn as sns\n",
    "\n",
    "# ORM Stuff\n",
    "from sqlalchemy import create_engine, inspect, text, func\n"
   ]
  },
  {
   "cell_type": "code",
   "execution_count": 130,
   "metadata": {},
   "outputs": [
    {
     "name": "stdout",
     "output_type": "stream",
     "text": [
      "(4359, 10)\n"
     ]
    },
    {
     "data": {
      "text/html": [
       "<div>\n",
       "<style scoped>\n",
       "    .dataframe tbody tr th:only-of-type {\n",
       "        vertical-align: middle;\n",
       "    }\n",
       "\n",
       "    .dataframe tbody tr th {\n",
       "        vertical-align: top;\n",
       "    }\n",
       "\n",
       "    .dataframe thead th {\n",
       "        text-align: right;\n",
       "    }\n",
       "</style>\n",
       "<table border=\"1\" class=\"dataframe\">\n",
       "  <thead>\n",
       "    <tr style=\"text-align: right;\">\n",
       "      <th></th>\n",
       "      <th>Location</th>\n",
       "      <th>Year</th>\n",
       "      <th>Distance (in meters)</th>\n",
       "      <th>Stroke</th>\n",
       "      <th>Relay?</th>\n",
       "      <th>Gender</th>\n",
       "      <th>Team</th>\n",
       "      <th>Athlete</th>\n",
       "      <th>Results</th>\n",
       "      <th>Rank</th>\n",
       "    </tr>\n",
       "  </thead>\n",
       "  <tbody>\n",
       "    <tr>\n",
       "      <th>0</th>\n",
       "      <td>Tokyo</td>\n",
       "      <td>2020</td>\n",
       "      <td>100m</td>\n",
       "      <td>Backstroke</td>\n",
       "      <td>0</td>\n",
       "      <td>Men</td>\n",
       "      <td>ROC</td>\n",
       "      <td>Evgeny Rylov</td>\n",
       "      <td>51.98</td>\n",
       "      <td>1</td>\n",
       "    </tr>\n",
       "    <tr>\n",
       "      <th>1</th>\n",
       "      <td>Tokyo</td>\n",
       "      <td>2020</td>\n",
       "      <td>100m</td>\n",
       "      <td>Backstroke</td>\n",
       "      <td>0</td>\n",
       "      <td>Men</td>\n",
       "      <td>ROC</td>\n",
       "      <td>Kliment Kolesnikov</td>\n",
       "      <td>52</td>\n",
       "      <td>2</td>\n",
       "    </tr>\n",
       "    <tr>\n",
       "      <th>2</th>\n",
       "      <td>Tokyo</td>\n",
       "      <td>2020</td>\n",
       "      <td>100m</td>\n",
       "      <td>Backstroke</td>\n",
       "      <td>0</td>\n",
       "      <td>Men</td>\n",
       "      <td>USA</td>\n",
       "      <td>Ryan Murphy</td>\n",
       "      <td>52.19</td>\n",
       "      <td>3</td>\n",
       "    </tr>\n",
       "    <tr>\n",
       "      <th>3</th>\n",
       "      <td>Tokyo</td>\n",
       "      <td>2020</td>\n",
       "      <td>100m</td>\n",
       "      <td>Backstroke</td>\n",
       "      <td>0</td>\n",
       "      <td>Men</td>\n",
       "      <td>ITA</td>\n",
       "      <td>Thomas Ceccon</td>\n",
       "      <td>52.3</td>\n",
       "      <td>4</td>\n",
       "    </tr>\n",
       "    <tr>\n",
       "      <th>4</th>\n",
       "      <td>Tokyo</td>\n",
       "      <td>2020</td>\n",
       "      <td>100m</td>\n",
       "      <td>Backstroke</td>\n",
       "      <td>0</td>\n",
       "      <td>Men</td>\n",
       "      <td>CHN</td>\n",
       "      <td>Jiayu Xu</td>\n",
       "      <td>52.51</td>\n",
       "      <td>4</td>\n",
       "    </tr>\n",
       "  </tbody>\n",
       "</table>\n",
       "</div>"
      ],
      "text/plain": [
       "  Location  Year Distance (in meters)      Stroke  Relay? Gender Team  \\\n",
       "0    Tokyo  2020                 100m  Backstroke       0    Men  ROC   \n",
       "1    Tokyo  2020                 100m  Backstroke       0    Men  ROC   \n",
       "2    Tokyo  2020                 100m  Backstroke       0    Men  USA   \n",
       "3    Tokyo  2020                 100m  Backstroke       0    Men  ITA   \n",
       "4    Tokyo  2020                 100m  Backstroke       0    Men  CHN   \n",
       "\n",
       "              Athlete Results  Rank  \n",
       "0        Evgeny Rylov   51.98     1  \n",
       "1  Kliment Kolesnikov      52     2  \n",
       "2         Ryan Murphy   52.19     3  \n",
       "3       Thomas Ceccon    52.3     4  \n",
       "4            Jiayu Xu   52.51     4  "
      ]
     },
     "execution_count": 130,
     "metadata": {},
     "output_type": "execute_result"
    }
   ],
   "source": [
    "df = pd.read_csv(\"Olympic_Swimming_Results_1912to2020.csv\")\n",
    "print(df.shape)\n",
    "df.head()"
   ]
  },
  {
   "cell_type": "code",
   "execution_count": 131,
   "metadata": {},
   "outputs": [
    {
     "name": "stdout",
     "output_type": "stream",
     "text": [
      "<class 'pandas.core.frame.DataFrame'>\n",
      "RangeIndex: 4359 entries, 0 to 4358\n",
      "Data columns (total 10 columns):\n",
      " #   Column                Non-Null Count  Dtype \n",
      "---  ------                --------------  ----- \n",
      " 0   Location              4359 non-null   object\n",
      " 1   Year                  4359 non-null   int64 \n",
      " 2   Distance (in meters)  4359 non-null   object\n",
      " 3   Stroke                4359 non-null   object\n",
      " 4   Relay?                4359 non-null   int64 \n",
      " 5   Gender                4359 non-null   object\n",
      " 6   Team                  4359 non-null   object\n",
      " 7   Athlete               4345 non-null   object\n",
      " 8   Results               4331 non-null   object\n",
      " 9   Rank                  4359 non-null   int64 \n",
      "dtypes: int64(3), object(7)\n",
      "memory usage: 340.7+ KB\n"
     ]
    }
   ],
   "source": [
    "df.info()"
   ]
  },
  {
   "cell_type": "code",
   "execution_count": 132,
   "metadata": {},
   "outputs": [
    {
     "name": "stdout",
     "output_type": "stream",
     "text": [
      "<class 'pandas.core.frame.DataFrame'>\n",
      "Index: 4317 entries, 0 to 4358\n",
      "Data columns (total 9 columns):\n",
      " #   Column                Non-Null Count  Dtype \n",
      "---  ------                --------------  ----- \n",
      " 0   Location              4317 non-null   object\n",
      " 1   Year                  4317 non-null   int64 \n",
      " 2   Distance (in meters)  4317 non-null   object\n",
      " 3   Stroke                4317 non-null   object\n",
      " 4   Gender                4317 non-null   object\n",
      " 5   Team                  4317 non-null   object\n",
      " 6   Athlete               4317 non-null   object\n",
      " 7   Results               4317 non-null   object\n",
      " 8   Rank                  4317 non-null   int64 \n",
      "dtypes: int64(2), object(7)\n",
      "memory usage: 337.3+ KB\n"
     ]
    }
   ],
   "source": [
    "## Drop unwanted 'Relay' column \n",
    "df = df.drop(columns=['Relay?'])  # Drop the column\n",
    "df = df.dropna()  \n",
    "df.info()"
   ]
  },
  {
   "cell_type": "code",
   "execution_count": 133,
   "metadata": {},
   "outputs": [],
   "source": [
    "engine = create_engine(\"sqlite:///Olympic_Swimming_Results.sqlite\")"
   ]
  },
  {
   "cell_type": "code",
   "execution_count": 134,
   "metadata": {},
   "outputs": [
    {
     "data": {
      "text/html": [
       "<div>\n",
       "<style scoped>\n",
       "    .dataframe tbody tr th:only-of-type {\n",
       "        vertical-align: middle;\n",
       "    }\n",
       "\n",
       "    .dataframe tbody tr th {\n",
       "        vertical-align: top;\n",
       "    }\n",
       "\n",
       "    .dataframe thead th {\n",
       "        text-align: right;\n",
       "    }\n",
       "</style>\n",
       "<table border=\"1\" class=\"dataframe\">\n",
       "  <thead>\n",
       "    <tr style=\"text-align: right;\">\n",
       "      <th></th>\n",
       "      <th>Location</th>\n",
       "      <th>Year</th>\n",
       "      <th>Distance (in meters)</th>\n",
       "      <th>Stroke</th>\n",
       "      <th>Gender</th>\n",
       "      <th>Team</th>\n",
       "      <th>Athlete</th>\n",
       "      <th>Results</th>\n",
       "      <th>Rank</th>\n",
       "    </tr>\n",
       "  </thead>\n",
       "  <tbody>\n",
       "    <tr>\n",
       "      <th>1814</th>\n",
       "      <td>Barcelona</td>\n",
       "      <td>1992</td>\n",
       "      <td>100m</td>\n",
       "      <td>Freestyle</td>\n",
       "      <td>Men</td>\n",
       "      <td>GER</td>\n",
       "      <td>Christian Tröger</td>\n",
       "      <td>49.840</td>\n",
       "      <td>4</td>\n",
       "    </tr>\n",
       "    <tr>\n",
       "      <th>2066</th>\n",
       "      <td>Seoul</td>\n",
       "      <td>1988</td>\n",
       "      <td>100m</td>\n",
       "      <td>Freestyle</td>\n",
       "      <td>Women</td>\n",
       "      <td>FRA</td>\n",
       "      <td>Catherine Plewinski</td>\n",
       "      <td>55.490</td>\n",
       "      <td>3</td>\n",
       "    </tr>\n",
       "    <tr>\n",
       "      <th>1832</th>\n",
       "      <td>Barcelona</td>\n",
       "      <td>1992</td>\n",
       "      <td>200m</td>\n",
       "      <td>Backstroke</td>\n",
       "      <td>Men</td>\n",
       "      <td>ESP</td>\n",
       "      <td>Martin Lopez Zubero</td>\n",
       "      <td>00:01:58.470000</td>\n",
       "      <td>1</td>\n",
       "    </tr>\n",
       "    <tr>\n",
       "      <th>4335</th>\n",
       "      <td>Stockholm</td>\n",
       "      <td>1912</td>\n",
       "      <td>400m</td>\n",
       "      <td>Breaststroke</td>\n",
       "      <td>Men</td>\n",
       "      <td>GER</td>\n",
       "      <td>Walter Bathe</td>\n",
       "      <td>00:06:29.600000</td>\n",
       "      <td>1</td>\n",
       "    </tr>\n",
       "    <tr>\n",
       "      <th>182</th>\n",
       "      <td>Tokyo</td>\n",
       "      <td>2020</td>\n",
       "      <td>200m</td>\n",
       "      <td>Freestyle</td>\n",
       "      <td>Women</td>\n",
       "      <td>ITA</td>\n",
       "      <td>Federica Pellegrini</td>\n",
       "      <td>1:55.91</td>\n",
       "      <td>4</td>\n",
       "    </tr>\n",
       "  </tbody>\n",
       "</table>\n",
       "</div>"
      ],
      "text/plain": [
       "       Location  Year Distance (in meters)        Stroke Gender Team  \\\n",
       "1814  Barcelona  1992                 100m     Freestyle    Men  GER   \n",
       "2066      Seoul  1988                 100m     Freestyle  Women  FRA   \n",
       "1832  Barcelona  1992                 200m    Backstroke    Men  ESP   \n",
       "4335  Stockholm  1912                 400m  Breaststroke    Men  GER   \n",
       "182       Tokyo  2020                 200m     Freestyle  Women  ITA   \n",
       "\n",
       "                  Athlete          Results  Rank  \n",
       "1814     Christian Tröger           49.840     4  \n",
       "2066  Catherine Plewinski           55.490     3  \n",
       "1832  Martin Lopez Zubero  00:01:58.470000     1  \n",
       "4335         Walter Bathe  00:06:29.600000     1  \n",
       "182   Federica Pellegrini          1:55.91     4  "
      ]
     },
     "execution_count": 134,
     "metadata": {},
     "output_type": "execute_result"
    }
   ],
   "source": [
    "# Random sample for SPEED\n",
    "df2 = df.sample(4000)\n",
    "df2.head()"
   ]
  },
  {
   "cell_type": "code",
   "execution_count": 135,
   "metadata": {},
   "outputs": [
    {
     "data": {
      "text/plain": [
       "4000"
      ]
     },
     "execution_count": 135,
     "metadata": {},
     "output_type": "execute_result"
    }
   ],
   "source": [
    "df2.to_sql(name=\"Olympic_Swimming_Results\", con=engine, index=False, if_exists=\"append\", method=\"multi\")\n"
   ]
  },
  {
   "cell_type": "code",
   "execution_count": 136,
   "metadata": {},
   "outputs": [
    {
     "name": "stdout",
     "output_type": "stream",
     "text": [
      "Olympic_Swimming_Results\n",
      "--------\n",
      "Location TEXT\n",
      "Year BIGINT\n",
      "Distance (in meters) TEXT\n",
      "Stroke TEXT\n",
      "Gender TEXT\n",
      "Team TEXT\n",
      "Athlete TEXT\n",
      "Results TEXT\n",
      "Rank BIGINT\n",
      "\n"
     ]
    }
   ],
   "source": [
    "# Create the inspector and connect it to the engine\n",
    "inspector = inspect(engine)\n",
    "\n",
    "# Collect the names of tables within the database\n",
    "tables = inspector.get_table_names()\n",
    "\n",
    "# Using the inspector to print the column names within the 'dow' table and its types\n",
    "for table in tables:\n",
    "    print(table)\n",
    "    print(\"--------\")\n",
    "    columns = inspector.get_columns(table)\n",
    "    for column in columns:\n",
    "        print(column[\"name\"], column[\"type\"])\n",
    "\n",
    "    print()"
   ]
  },
  {
   "cell_type": "code",
   "execution_count": 137,
   "metadata": {},
   "outputs": [],
   "source": [
    "conn = engine.connect() # Raw SQL/Pandas"
   ]
  },
  {
   "cell_type": "code",
   "execution_count": 138,
   "metadata": {},
   "outputs": [
    {
     "data": {
      "text/html": [
       "<div>\n",
       "<style scoped>\n",
       "    .dataframe tbody tr th:only-of-type {\n",
       "        vertical-align: middle;\n",
       "    }\n",
       "\n",
       "    .dataframe tbody tr th {\n",
       "        vertical-align: top;\n",
       "    }\n",
       "\n",
       "    .dataframe thead th {\n",
       "        text-align: right;\n",
       "    }\n",
       "</style>\n",
       "<table border=\"1\" class=\"dataframe\">\n",
       "  <thead>\n",
       "    <tr style=\"text-align: right;\">\n",
       "      <th></th>\n",
       "      <th>total_records</th>\n",
       "    </tr>\n",
       "  </thead>\n",
       "  <tbody>\n",
       "    <tr>\n",
       "      <th>0</th>\n",
       "      <td>17318</td>\n",
       "    </tr>\n",
       "  </tbody>\n",
       "</table>\n",
       "</div>"
      ],
      "text/plain": [
       "   total_records\n",
       "0          17318"
      ]
     },
     "execution_count": 138,
     "metadata": {},
     "output_type": "execute_result"
    }
   ],
   "source": [
    " # Raw SQL\n",
    "query = text(\"\"\"SELECT COUNT(*) AS total_records FROM Olympic_Swimming_Results;\"\"\")\n",
    "df2 = pd.read_sql(query, con=conn)\n",
    "df2.head(10)"
   ]
  },
  {
   "cell_type": "code",
   "execution_count": null,
   "metadata": {},
   "outputs": [],
   "source": []
  },
  {
   "cell_type": "code",
   "execution_count": null,
   "metadata": {},
   "outputs": [],
   "source": []
  }
 ],
 "metadata": {
  "kernelspec": {
   "display_name": "dev",
   "language": "python",
   "name": "dev"
  },
  "language_info": {
   "codemirror_mode": {
    "name": "ipython",
    "version": 3
   },
   "file_extension": ".py",
   "mimetype": "text/x-python",
   "name": "python",
   "nbconvert_exporter": "python",
   "pygments_lexer": "ipython3",
   "version": "3.12.7"
  }
 },
 "nbformat": 4,
 "nbformat_minor": 2
}
