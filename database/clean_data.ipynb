{
 "cells": [
  {
   "cell_type": "code",
   "execution_count": 108,
   "metadata": {},
   "outputs": [],
   "source": [
    "# Import the dependencies\n",
    "import pandas as pd\n",
    "import numpy as np\n",
    "import datetime\n",
    "\n",
    "# ORM Stuff\n",
    "from sqlalchemy import create_engine, inspect"
   ]
  },
  {
   "cell_type": "code",
   "execution_count": 109,
   "metadata": {},
   "outputs": [
    {
     "name": "stdout",
     "output_type": "stream",
     "text": [
      "(4359, 10)\n"
     ]
    },
    {
     "data": {
      "text/html": [
       "<div>\n",
       "<style scoped>\n",
       "    .dataframe tbody tr th:only-of-type {\n",
       "        vertical-align: middle;\n",
       "    }\n",
       "\n",
       "    .dataframe tbody tr th {\n",
       "        vertical-align: top;\n",
       "    }\n",
       "\n",
       "    .dataframe thead th {\n",
       "        text-align: right;\n",
       "    }\n",
       "</style>\n",
       "<table border=\"1\" class=\"dataframe\">\n",
       "  <thead>\n",
       "    <tr style=\"text-align: right;\">\n",
       "      <th></th>\n",
       "      <th>Location</th>\n",
       "      <th>Year</th>\n",
       "      <th>Distance (in meters)</th>\n",
       "      <th>Stroke</th>\n",
       "      <th>Relay?</th>\n",
       "      <th>Gender</th>\n",
       "      <th>Team</th>\n",
       "      <th>Athlete</th>\n",
       "      <th>Results</th>\n",
       "      <th>Rank</th>\n",
       "    </tr>\n",
       "  </thead>\n",
       "  <tbody>\n",
       "    <tr>\n",
       "      <th>0</th>\n",
       "      <td>Tokyo</td>\n",
       "      <td>2020</td>\n",
       "      <td>100m</td>\n",
       "      <td>Backstroke</td>\n",
       "      <td>0</td>\n",
       "      <td>Men</td>\n",
       "      <td>ROC</td>\n",
       "      <td>Evgeny Rylov</td>\n",
       "      <td>51.98</td>\n",
       "      <td>1</td>\n",
       "    </tr>\n",
       "    <tr>\n",
       "      <th>1</th>\n",
       "      <td>Tokyo</td>\n",
       "      <td>2020</td>\n",
       "      <td>100m</td>\n",
       "      <td>Backstroke</td>\n",
       "      <td>0</td>\n",
       "      <td>Men</td>\n",
       "      <td>ROC</td>\n",
       "      <td>Kliment Kolesnikov</td>\n",
       "      <td>52</td>\n",
       "      <td>2</td>\n",
       "    </tr>\n",
       "    <tr>\n",
       "      <th>2</th>\n",
       "      <td>Tokyo</td>\n",
       "      <td>2020</td>\n",
       "      <td>100m</td>\n",
       "      <td>Backstroke</td>\n",
       "      <td>0</td>\n",
       "      <td>Men</td>\n",
       "      <td>USA</td>\n",
       "      <td>Ryan Murphy</td>\n",
       "      <td>52.19</td>\n",
       "      <td>3</td>\n",
       "    </tr>\n",
       "    <tr>\n",
       "      <th>3</th>\n",
       "      <td>Tokyo</td>\n",
       "      <td>2020</td>\n",
       "      <td>100m</td>\n",
       "      <td>Backstroke</td>\n",
       "      <td>0</td>\n",
       "      <td>Men</td>\n",
       "      <td>ITA</td>\n",
       "      <td>Thomas Ceccon</td>\n",
       "      <td>52.3</td>\n",
       "      <td>4</td>\n",
       "    </tr>\n",
       "    <tr>\n",
       "      <th>4</th>\n",
       "      <td>Tokyo</td>\n",
       "      <td>2020</td>\n",
       "      <td>100m</td>\n",
       "      <td>Backstroke</td>\n",
       "      <td>0</td>\n",
       "      <td>Men</td>\n",
       "      <td>CHN</td>\n",
       "      <td>Jiayu Xu</td>\n",
       "      <td>52.51</td>\n",
       "      <td>4</td>\n",
       "    </tr>\n",
       "  </tbody>\n",
       "</table>\n",
       "</div>"
      ],
      "text/plain": [
       "  Location  Year Distance (in meters)      Stroke  Relay? Gender Team  \\\n",
       "0    Tokyo  2020                 100m  Backstroke       0    Men  ROC   \n",
       "1    Tokyo  2020                 100m  Backstroke       0    Men  ROC   \n",
       "2    Tokyo  2020                 100m  Backstroke       0    Men  USA   \n",
       "3    Tokyo  2020                 100m  Backstroke       0    Men  ITA   \n",
       "4    Tokyo  2020                 100m  Backstroke       0    Men  CHN   \n",
       "\n",
       "              Athlete Results  Rank  \n",
       "0        Evgeny Rylov   51.98     1  \n",
       "1  Kliment Kolesnikov      52     2  \n",
       "2         Ryan Murphy   52.19     3  \n",
       "3       Thomas Ceccon    52.3     4  \n",
       "4            Jiayu Xu   52.51     4  "
      ]
     },
     "execution_count": 109,
     "metadata": {},
     "output_type": "execute_result"
    }
   ],
   "source": [
    "df = pd.read_csv(\"Olympic_Swimming_Results_1912to2020.csv\")\n",
    "print(df.shape)\n",
    "df.head()"
   ]
  },
  {
   "cell_type": "code",
   "execution_count": 110,
   "metadata": {},
   "outputs": [
    {
     "name": "stdout",
     "output_type": "stream",
     "text": [
      "<class 'pandas.core.frame.DataFrame'>\n",
      "RangeIndex: 4359 entries, 0 to 4358\n",
      "Data columns (total 10 columns):\n",
      " #   Column                Non-Null Count  Dtype \n",
      "---  ------                --------------  ----- \n",
      " 0   Location              4359 non-null   object\n",
      " 1   Year                  4359 non-null   int64 \n",
      " 2   Distance (in meters)  4359 non-null   object\n",
      " 3   Stroke                4359 non-null   object\n",
      " 4   Relay?                4359 non-null   int64 \n",
      " 5   Gender                4359 non-null   object\n",
      " 6   Team                  4359 non-null   object\n",
      " 7   Athlete               4345 non-null   object\n",
      " 8   Results               4331 non-null   object\n",
      " 9   Rank                  4359 non-null   int64 \n",
      "dtypes: int64(3), object(7)\n",
      "memory usage: 340.7+ KB\n"
     ]
    }
   ],
   "source": [
    "df.info()"
   ]
  },
  {
   "cell_type": "code",
   "execution_count": 111,
   "metadata": {},
   "outputs": [
    {
     "name": "stdout",
     "output_type": "stream",
     "text": [
      "<class 'pandas.core.frame.DataFrame'>\n",
      "Index: 4317 entries, 0 to 4358\n",
      "Data columns (total 9 columns):\n",
      " #   Column                Non-Null Count  Dtype \n",
      "---  ------                --------------  ----- \n",
      " 0   Location              4317 non-null   object\n",
      " 1   Year                  4317 non-null   int64 \n",
      " 2   Distance (in meters)  4317 non-null   object\n",
      " 3   Stroke                4317 non-null   object\n",
      " 4   Gender                4317 non-null   object\n",
      " 5   Team                  4317 non-null   object\n",
      " 6   Athlete               4317 non-null   object\n",
      " 7   Results               4317 non-null   object\n",
      " 8   Rank                  4317 non-null   int64 \n",
      "dtypes: int64(2), object(7)\n",
      "memory usage: 337.3+ KB\n"
     ]
    }
   ],
   "source": [
    "## Drop unwanted 'Relay' column \n",
    "df = df.drop(columns=['Relay?'])  # Drop the column\n",
    "df = df.dropna()  \n",
    "df.info()"
   ]
  },
  {
   "cell_type": "code",
   "execution_count": 112,
   "metadata": {},
   "outputs": [],
   "source": [
    "engine = create_engine(\"sqlite:///Olympic_Swimming_Results.sqlite\")"
   ]
  },
  {
   "cell_type": "code",
   "execution_count": 113,
   "metadata": {},
   "outputs": [
    {
     "data": {
      "text/html": [
       "<div>\n",
       "<style scoped>\n",
       "    .dataframe tbody tr th:only-of-type {\n",
       "        vertical-align: middle;\n",
       "    }\n",
       "\n",
       "    .dataframe tbody tr th {\n",
       "        vertical-align: top;\n",
       "    }\n",
       "\n",
       "    .dataframe thead th {\n",
       "        text-align: right;\n",
       "    }\n",
       "</style>\n",
       "<table border=\"1\" class=\"dataframe\">\n",
       "  <thead>\n",
       "    <tr style=\"text-align: right;\">\n",
       "      <th></th>\n",
       "      <th>Location</th>\n",
       "      <th>Year</th>\n",
       "      <th>Distance (in meters)</th>\n",
       "      <th>Stroke</th>\n",
       "      <th>Gender</th>\n",
       "      <th>Team</th>\n",
       "      <th>Athlete</th>\n",
       "      <th>Results</th>\n",
       "      <th>Rank</th>\n",
       "    </tr>\n",
       "  </thead>\n",
       "  <tbody>\n",
       "    <tr>\n",
       "      <th>2418</th>\n",
       "      <td>Angeles</td>\n",
       "      <td>1984</td>\n",
       "      <td>400m</td>\n",
       "      <td>Freestyle</td>\n",
       "      <td>Women</td>\n",
       "      <td>GBR</td>\n",
       "      <td>June Croft</td>\n",
       "      <td>00:04:11.490000</td>\n",
       "      <td>3</td>\n",
       "    </tr>\n",
       "    <tr>\n",
       "      <th>3010</th>\n",
       "      <td>Munich</td>\n",
       "      <td>1972</td>\n",
       "      <td>200m</td>\n",
       "      <td>Butterfly</td>\n",
       "      <td>Men</td>\n",
       "      <td>USA</td>\n",
       "      <td>Robin James Backhaus</td>\n",
       "      <td>00:02:03.230000</td>\n",
       "      <td>3</td>\n",
       "    </tr>\n",
       "    <tr>\n",
       "      <th>1759</th>\n",
       "      <td>Atlanta</td>\n",
       "      <td>1996</td>\n",
       "      <td>800m</td>\n",
       "      <td>Freestyle</td>\n",
       "      <td>Women</td>\n",
       "      <td>GBR</td>\n",
       "      <td>Sarah Hardcastle</td>\n",
       "      <td>00:08:41.750000</td>\n",
       "      <td>4</td>\n",
       "    </tr>\n",
       "    <tr>\n",
       "      <th>1815</th>\n",
       "      <td>Barcelona</td>\n",
       "      <td>1992</td>\n",
       "      <td>100m</td>\n",
       "      <td>Freestyle</td>\n",
       "      <td>Men</td>\n",
       "      <td>EUN</td>\n",
       "      <td>Gennady Prigoda</td>\n",
       "      <td>50.250</td>\n",
       "      <td>4</td>\n",
       "    </tr>\n",
       "    <tr>\n",
       "      <th>2340</th>\n",
       "      <td>Angeles</td>\n",
       "      <td>1984</td>\n",
       "      <td>200m</td>\n",
       "      <td>Backstroke</td>\n",
       "      <td>Women</td>\n",
       "      <td>USA</td>\n",
       "      <td>Torri Leigh Trees</td>\n",
       "      <td>00:02:15.730000</td>\n",
       "      <td>4</td>\n",
       "    </tr>\n",
       "  </tbody>\n",
       "</table>\n",
       "</div>"
      ],
      "text/plain": [
       "       Location  Year Distance (in meters)      Stroke Gender Team  \\\n",
       "2418    Angeles  1984                 400m   Freestyle  Women  GBR   \n",
       "3010     Munich  1972                 200m   Butterfly    Men  USA   \n",
       "1759    Atlanta  1996                 800m   Freestyle  Women  GBR   \n",
       "1815  Barcelona  1992                 100m   Freestyle    Men  EUN   \n",
       "2340    Angeles  1984                 200m  Backstroke  Women  USA   \n",
       "\n",
       "                   Athlete          Results  Rank  \n",
       "2418            June Croft  00:04:11.490000     3  \n",
       "3010  Robin James Backhaus  00:02:03.230000     3  \n",
       "1759      Sarah Hardcastle  00:08:41.750000     4  \n",
       "1815       Gennady Prigoda           50.250     4  \n",
       "2340     Torri Leigh Trees  00:02:15.730000     4  "
      ]
     },
     "execution_count": 113,
     "metadata": {},
     "output_type": "execute_result"
    }
   ],
   "source": [
    "# Random sample for SPEED\n",
    "df2 = df.sample(4000)\n",
    "df2.head()"
   ]
  },
  {
   "cell_type": "code",
   "execution_count": 114,
   "metadata": {},
   "outputs": [
    {
     "data": {
      "text/plain": [
       "4000"
      ]
     },
     "execution_count": 114,
     "metadata": {},
     "output_type": "execute_result"
    }
   ],
   "source": [
    "df2.to_sql(name=\"Olympic_Swimming_Results\", con=engine, index=False, if_exists=\"append\", method=\"multi\")\n"
   ]
  },
  {
   "cell_type": "code",
   "execution_count": 115,
   "metadata": {},
   "outputs": [
    {
     "name": "stdout",
     "output_type": "stream",
     "text": [
      "Olympic_Swimming_Results\n",
      "--------\n",
      "Location TEXT\n",
      "Year BIGINT\n",
      "Distance (in meters) TEXT\n",
      "Stroke TEXT\n",
      "Gender TEXT\n",
      "Team TEXT\n",
      "Athlete TEXT\n",
      "Results TEXT\n",
      "Rank BIGINT\n",
      "\n"
     ]
    }
   ],
   "source": [
    "# Create the inspector and connect it to the engine\n",
    "inspector = inspect(engine)\n",
    "\n",
    "# Collect the names of tables within the database\n",
    "tables = inspector.get_table_names()\n",
    "\n",
    "# Using the inspector to print the column names within the 'dow' table and its types\n",
    "for table in tables:\n",
    "    print(table)\n",
    "    print(\"--------\")\n",
    "    columns = inspector.get_columns(table)\n",
    "    for column in columns:\n",
    "        print(column[\"name\"], column[\"type\"])\n",
    "\n",
    "    print()"
   ]
  },
  {
   "cell_type": "code",
   "execution_count": 116,
   "metadata": {},
   "outputs": [],
   "source": [
    "engine.dispose()"
   ]
  }
 ],
 "metadata": {
  "kernelspec": {
   "display_name": "dev",
   "language": "python",
   "name": "dev"
  },
  "language_info": {
   "codemirror_mode": {
    "name": "ipython",
    "version": 3
   },
   "file_extension": ".py",
   "mimetype": "text/x-python",
   "name": "python",
   "nbconvert_exporter": "python",
   "pygments_lexer": "ipython3",
   "version": "3.12.7"
  }
 },
 "nbformat": 4,
 "nbformat_minor": 2
}
